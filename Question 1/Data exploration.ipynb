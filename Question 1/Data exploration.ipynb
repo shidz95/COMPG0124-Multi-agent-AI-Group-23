{
 "cells": [
  {
   "cell_type": "code",
   "execution_count": 72,
   "metadata": {},
   "outputs": [],
   "source": [
    "import numpy as np\n",
    "import pandas as pd\n",
    "import matplotlib.pyplot as plt\n"
   ]
  },
  {
   "cell_type": "code",
   "execution_count": 83,
   "metadata": {},
   "outputs": [
    {
     "name": "stdout",
     "output_type": "stream",
     "text": [
      "(2430981, 25)\n",
      "(303375, 22)\n",
      "(303925, 25)\n"
     ]
    }
   ],
   "source": [
    "csv_data = pd.read_csv('train.csv')\n",
    "csv_data_test = pd.read_csv('test.csv')\n",
    "csv_data_validation = pd.read_csv('validation.csv')\n",
    "print(csv_data.shape)\n",
    "print(csv_data_test.shape)\n",
    "print(csv_data_validation.shape)"
   ]
  },
  {
   "cell_type": "code",
   "execution_count": 74,
   "metadata": {},
   "outputs": [
    {
     "data": {
      "text/html": [
       "<div>\n",
       "<style scoped>\n",
       "    .dataframe tbody tr th:only-of-type {\n",
       "        vertical-align: middle;\n",
       "    }\n",
       "\n",
       "    .dataframe tbody tr th {\n",
       "        vertical-align: top;\n",
       "    }\n",
       "\n",
       "    .dataframe thead th {\n",
       "        text-align: right;\n",
       "    }\n",
       "</style>\n",
       "<table border=\"1\" class=\"dataframe\">\n",
       "  <thead>\n",
       "    <tr style=\"text-align: right;\">\n",
       "      <th></th>\n",
       "      <th>click</th>\n",
       "      <th>weekday</th>\n",
       "      <th>hour</th>\n",
       "      <th>bidid</th>\n",
       "      <th>userid</th>\n",
       "      <th>useragent</th>\n",
       "      <th>IP</th>\n",
       "      <th>region</th>\n",
       "      <th>city</th>\n",
       "      <th>adexchange</th>\n",
       "      <th>...</th>\n",
       "      <th>slotheight</th>\n",
       "      <th>slotvisibility</th>\n",
       "      <th>slotformat</th>\n",
       "      <th>slotprice</th>\n",
       "      <th>creative</th>\n",
       "      <th>bidprice</th>\n",
       "      <th>payprice</th>\n",
       "      <th>keypage</th>\n",
       "      <th>advertiser</th>\n",
       "      <th>usertag</th>\n",
       "    </tr>\n",
       "  </thead>\n",
       "  <tbody>\n",
       "    <tr>\n",
       "      <th>0</th>\n",
       "      <td>0</td>\n",
       "      <td>5</td>\n",
       "      <td>22</td>\n",
       "      <td>b7bea80521fdecd95d2d761a38c91c3f09618066</td>\n",
       "      <td>2e880fb7d690cf7377b2e42e701728e3f3c0e4c1</td>\n",
       "      <td>windows_ie</td>\n",
       "      <td>125.37.175.*</td>\n",
       "      <td>2</td>\n",
       "      <td>2</td>\n",
       "      <td>2.0</td>\n",
       "      <td>...</td>\n",
       "      <td>200</td>\n",
       "      <td>2</td>\n",
       "      <td>0</td>\n",
       "      <td>5</td>\n",
       "      <td>a4f763f78ef3eedfe614263b94a8924e</td>\n",
       "      <td>238</td>\n",
       "      <td>5</td>\n",
       "      <td>0f951a030abdaedd733ee8d114ce2944</td>\n",
       "      <td>3427</td>\n",
       "      <td>NaN</td>\n",
       "    </tr>\n",
       "    <tr>\n",
       "      <th>1</th>\n",
       "      <td>0</td>\n",
       "      <td>1</td>\n",
       "      <td>20</td>\n",
       "      <td>4f51205475678f5a124bc76b2c54163bf8eaa7eb</td>\n",
       "      <td>3a1fe01360ff8100e7d006b83b77a3e4c01d928c</td>\n",
       "      <td>windows_chrome</td>\n",
       "      <td>171.36.92.*</td>\n",
       "      <td>238</td>\n",
       "      <td>239</td>\n",
       "      <td>1.0</td>\n",
       "      <td>...</td>\n",
       "      <td>250</td>\n",
       "      <td>FourthView</td>\n",
       "      <td>Na</td>\n",
       "      <td>0</td>\n",
       "      <td>10722</td>\n",
       "      <td>294</td>\n",
       "      <td>23</td>\n",
       "      <td>NaN</td>\n",
       "      <td>2821</td>\n",
       "      <td>NaN</td>\n",
       "    </tr>\n",
       "    <tr>\n",
       "      <th>2</th>\n",
       "      <td>0</td>\n",
       "      <td>3</td>\n",
       "      <td>13</td>\n",
       "      <td>b604e3fd054a658ab7ced4285ebf2ef54d2bd890</td>\n",
       "      <td>801d18a056b6fe6b06a794aef17fb0d6daff2414</td>\n",
       "      <td>windows_ie</td>\n",
       "      <td>59.46.106.*</td>\n",
       "      <td>40</td>\n",
       "      <td>41</td>\n",
       "      <td>2.0</td>\n",
       "      <td>...</td>\n",
       "      <td>250</td>\n",
       "      <td>2</td>\n",
       "      <td>0</td>\n",
       "      <td>5</td>\n",
       "      <td>798b2d49952d77f1eace9f23c210d0b5</td>\n",
       "      <td>238</td>\n",
       "      <td>24</td>\n",
       "      <td>0f951a030abdaedd733ee8d114ce2944</td>\n",
       "      <td>3427</td>\n",
       "      <td>10052,10006,13866,10110</td>\n",
       "    </tr>\n",
       "    <tr>\n",
       "      <th>3</th>\n",
       "      <td>0</td>\n",
       "      <td>6</td>\n",
       "      <td>23</td>\n",
       "      <td>0348beeae93e561584c3b50fc9e7746a33048ad7</td>\n",
       "      <td>0d6eaf2259699990e38a1fc5116f112070b9ecdc</td>\n",
       "      <td>windows_ie</td>\n",
       "      <td>114.250.226.*</td>\n",
       "      <td>1</td>\n",
       "      <td>1</td>\n",
       "      <td>1.0</td>\n",
       "      <td>...</td>\n",
       "      <td>600</td>\n",
       "      <td>2</td>\n",
       "      <td>1</td>\n",
       "      <td>0</td>\n",
       "      <td>cb7c76e7784031272e37af8e7e9b062c</td>\n",
       "      <td>300</td>\n",
       "      <td>25</td>\n",
       "      <td>bebefa5efe83beee17a3d245e7c5085b</td>\n",
       "      <td>1458</td>\n",
       "      <td>13866,10063,10111</td>\n",
       "    </tr>\n",
       "    <tr>\n",
       "      <th>4</th>\n",
       "      <td>0</td>\n",
       "      <td>5</td>\n",
       "      <td>6</td>\n",
       "      <td>268149c1789bce2bc9798ffd97ec431219bafeb3</td>\n",
       "      <td>a239d9bb642460d974ba67f85e63b8d3e214da0e</td>\n",
       "      <td>windows_ie</td>\n",
       "      <td>183.63.192.*</td>\n",
       "      <td>216</td>\n",
       "      <td>233</td>\n",
       "      <td>2.0</td>\n",
       "      <td>...</td>\n",
       "      <td>90</td>\n",
       "      <td>OtherView</td>\n",
       "      <td>Na</td>\n",
       "      <td>133</td>\n",
       "      <td>7330</td>\n",
       "      <td>277</td>\n",
       "      <td>133</td>\n",
       "      <td>NaN</td>\n",
       "      <td>2259</td>\n",
       "      <td>NaN</td>\n",
       "    </tr>\n",
       "  </tbody>\n",
       "</table>\n",
       "<p>5 rows × 25 columns</p>\n",
       "</div>"
      ],
      "text/plain": [
       "   click  weekday  hour                                     bidid  \\\n",
       "0      0        5    22  b7bea80521fdecd95d2d761a38c91c3f09618066   \n",
       "1      0        1    20  4f51205475678f5a124bc76b2c54163bf8eaa7eb   \n",
       "2      0        3    13  b604e3fd054a658ab7ced4285ebf2ef54d2bd890   \n",
       "3      0        6    23  0348beeae93e561584c3b50fc9e7746a33048ad7   \n",
       "4      0        5     6  268149c1789bce2bc9798ffd97ec431219bafeb3   \n",
       "\n",
       "                                     userid       useragent             IP  \\\n",
       "0  2e880fb7d690cf7377b2e42e701728e3f3c0e4c1      windows_ie   125.37.175.*   \n",
       "1  3a1fe01360ff8100e7d006b83b77a3e4c01d928c  windows_chrome    171.36.92.*   \n",
       "2  801d18a056b6fe6b06a794aef17fb0d6daff2414      windows_ie    59.46.106.*   \n",
       "3  0d6eaf2259699990e38a1fc5116f112070b9ecdc      windows_ie  114.250.226.*   \n",
       "4  a239d9bb642460d974ba67f85e63b8d3e214da0e      windows_ie   183.63.192.*   \n",
       "\n",
       "   region  city  adexchange           ...            slotheight  \\\n",
       "0       2     2         2.0           ...                   200   \n",
       "1     238   239         1.0           ...                   250   \n",
       "2      40    41         2.0           ...                   250   \n",
       "3       1     1         1.0           ...                   600   \n",
       "4     216   233         2.0           ...                    90   \n",
       "\n",
       "  slotvisibility  slotformat slotprice                          creative  \\\n",
       "0              2           0         5  a4f763f78ef3eedfe614263b94a8924e   \n",
       "1     FourthView          Na         0                             10722   \n",
       "2              2           0         5  798b2d49952d77f1eace9f23c210d0b5   \n",
       "3              2           1         0  cb7c76e7784031272e37af8e7e9b062c   \n",
       "4      OtherView          Na       133                              7330   \n",
       "\n",
       "   bidprice payprice                           keypage  advertiser  \\\n",
       "0       238        5  0f951a030abdaedd733ee8d114ce2944        3427   \n",
       "1       294       23                               NaN        2821   \n",
       "2       238       24  0f951a030abdaedd733ee8d114ce2944        3427   \n",
       "3       300       25  bebefa5efe83beee17a3d245e7c5085b        1458   \n",
       "4       277      133                               NaN        2259   \n",
       "\n",
       "                   usertag  \n",
       "0                      NaN  \n",
       "1                      NaN  \n",
       "2  10052,10006,13866,10110  \n",
       "3        13866,10063,10111  \n",
       "4                      NaN  \n",
       "\n",
       "[5 rows x 25 columns]"
      ]
     },
     "execution_count": 74,
     "metadata": {},
     "output_type": "execute_result"
    }
   ],
   "source": [
    "csv_data.head()"
   ]
  },
  {
   "cell_type": "code",
   "execution_count": 75,
   "metadata": {},
   "outputs": [
    {
     "data": {
      "text/plain": [
       "pandas.core.series.Series"
      ]
     },
     "execution_count": 75,
     "metadata": {},
     "output_type": "execute_result"
    }
   ],
   "source": [
    "type(csv_data['weekday'])"
   ]
  },
  {
   "cell_type": "markdown",
   "metadata": {},
   "source": [
    "# CTR for Weekday"
   ]
  },
  {
   "cell_type": "code",
   "execution_count": 76,
   "metadata": {},
   "outputs": [],
   "source": [
    "ctr_for_weekday=[]\n",
    "for i in range(7):\n",
    "    csv_data_weekday=csv_data[(csv_data.weekday==i)]\n",
    "    csv_data_weekday_click=csv_data_weekday[(csv_data_weekday.click==1)]\n",
    "    ctr_for_weekday_i=len(csv_data_weekday_click)/len(csv_data_weekday)\n",
    "    ctr_for_weekday.append(ctr_for_weekday_i)"
   ]
  },
  {
   "cell_type": "code",
   "execution_count": 77,
   "metadata": {},
   "outputs": [
    {
     "data": {
      "text/plain": [
       "[0.0006437742751600528,\n",
       " 0.0006763290272813203,\n",
       " 0.0009647885898569009,\n",
       " 0.0008332670841835308,\n",
       " 0.000809771239624806,\n",
       " 0.0007251014261306592,\n",
       " 0.0005690915470738964]"
      ]
     },
     "execution_count": 77,
     "metadata": {},
     "output_type": "execute_result"
    }
   ],
   "source": [
    "ctr_for_weekday"
   ]
  },
  {
   "cell_type": "code",
   "execution_count": 78,
   "metadata": {
    "scrolled": true
   },
   "outputs": [
    {
     "data": {
      "image/png": "[encoded data removed]",
      "text/plain": [
       "<Figure size 432x288 with 1 Axes>"
      ]
     },
     "metadata": {},
     "output_type": "display_data"
    }
   ],
   "source": [
    "plt.plot(range(7),ctr_for_weekday, color='midnightblue')\n",
    "plt.scatter(range(7),ctr_for_weekday, color='midnightblue')\n",
    "plt.xlabel('Weekday',fontsize=15)\n",
    "plt.ylabel('CTR',fontsize=15)\n",
    "plt.ylim(0.0005,0.0011)\n",
    "plt.title('CTR for Weekday',fontsize=15)\n",
    "plt.savefig('CTR for weekday Q1.jpg')"
   ]
  },
  {
   "cell_type": "markdown",
   "metadata": {},
   "source": [
    "# CTR for Hour"
   ]
  },
  {
   "cell_type": "code",
   "execution_count": 79,
   "metadata": {},
   "outputs": [],
   "source": [
    "ctr_for_hour=[]\n",
    "for i in range(24):\n",
    "    csv_data_hour=csv_data[(csv_data.hour==i)]\n",
    "    csv_data_hour_click=csv_data_hour[(csv_data_hour.click==1)]\n",
    "    ctr_for_hour_i=len(csv_data_hour_click)/len(csv_data_hour)\n",
    "    ctr_for_hour.append(ctr_for_hour_i)"
   ]
  },
  {
   "cell_type": "code",
   "execution_count": 80,
   "metadata": {},
   "outputs": [
    {
     "data": {
      "text/plain": [
       "24"
      ]
     },
     "execution_count": 80,
     "metadata": {},
     "output_type": "execute_result"
    }
   ],
   "source": [
    "len(ctr_for_hour)"
   ]
  },
  {
   "cell_type": "code",
   "execution_count": 82,
   "metadata": {},
   "outputs": [
    {
     "data": {
      "image/png": "[encoded data removed]",
      "text/plain": [
       "<Figure size 432x288 with 1 Axes>"
      ]
     },
     "metadata": {},
     "output_type": "display_data"
    }
   ],
   "source": [
    "plt.plot(range(24),ctr_for_hour, color='midnightblue')\n",
    "plt.scatter(range(24),ctr_for_hour, color='midnightblue')\n",
    "plt.xlabel('Hour',fontsize=15)\n",
    "plt.ylabel('CTR',fontsize=15)\n",
    "plt.ylim(0.0001,0.0011)\n",
    "plt.title('CTR for Hour',fontsize=15)\n",
    "plt.savefig('CTR for Hour Q1.jpg')"
   ]
  },
  {
   "cell_type": "markdown",
   "metadata": {},
   "source": [
    "# Differenfce between bidprice and payprice"
   ]
  },
  {
   "cell_type": "code",
   "execution_count": 7,
   "metadata": {},
   "outputs": [],
   "source": [
    "difference_bidprice_payprice=(csv_data['bidprice']-csv_data['payprice'])"
   ]
  },
  {
   "cell_type": "code",
   "execution_count": 11,
   "metadata": {},
   "outputs": [
    {
     "data": {
      "text/plain": [
       "0          233\n",
       "1          271\n",
       "2          214\n",
       "3          275\n",
       "4          144\n",
       "5          177\n",
       "6          280\n",
       "7          166\n",
       "8          230\n",
       "9          164\n",
       "10          79\n",
       "11          10\n",
       "12         224\n",
       "13         273\n",
       "14         147\n",
       "15         280\n",
       "16         133\n",
       "17         295\n",
       "18         153\n",
       "19         230\n",
       "20         220\n",
       "21         266\n",
       "22         222\n",
       "23         230\n",
       "24         266\n",
       "25         205\n",
       "26         166\n",
       "27         153\n",
       "28          14\n",
       "29         104\n",
       "          ... \n",
       "2430951    215\n",
       "2430952    259\n",
       "2430953    129\n",
       "2430954    286\n",
       "2430955    209\n",
       "2430956      0\n",
       "2430957    138\n",
       "2430958     60\n",
       "2430959    179\n",
       "2430960     22\n",
       "2430961    164\n",
       "2430962    252\n",
       "2430963    164\n",
       "2430964    182\n",
       "2430965    296\n",
       "2430966    204\n",
       "2430967    265\n",
       "2430968    225\n",
       "2430969     83\n",
       "2430970    252\n",
       "2430971     87\n",
       "2430972    250\n",
       "2430973    233\n",
       "2430974    227\n",
       "2430975    233\n",
       "2430976     83\n",
       "2430977    203\n",
       "2430978     81\n",
       "2430979    286\n",
       "2430980    200\n",
       "Length: 2430981, dtype: int64"
      ]
     },
     "execution_count": 11,
     "metadata": {},
     "output_type": "execute_result"
    }
   ],
   "source": [
    "(difference_bidprice_payprice)"
   ]
  },
  {
   "cell_type": "code",
   "execution_count": 68,
   "metadata": {},
   "outputs": [
    {
     "data": {
      "image/png": "[encoded data removed]",
      "text/plain": [
       "<Figure size 1800x360 with 1 Axes>"
      ]
     },
     "metadata": {},
     "output_type": "display_data"
    }
   ],
   "source": [
    "plt.figure(figsize=(25,5))\n",
    "plt.hist(difference_bidprice_payprice, bins=20,color='midnightblue')\n",
    "plt.xlabel('difference',fontsize=15)\n",
    "plt.ylabel('frequency',fontsize=15)\n",
    "plt.title('Difference between bidprice and payprice',fontsize=15)\n",
    "#plt.savefig('Differnece between bidprice adn payprice Q1.jpg')"
   ]
  },
  {
   "cell_type": "markdown",
   "metadata": {},
   "source": [
    "# payprice&bidprice distribution (click and nonclick)"
   ]
  },
  {
   "cell_type": "code",
   "execution_count": 23,
   "metadata": {},
   "outputs": [],
   "source": [
    "data_click_1=csv_data[(csv_data.click==1)]"
   ]
  },
  {
   "cell_type": "code",
   "execution_count": 25,
   "metadata": {},
   "outputs": [],
   "source": [
    "data_click_0=csv_data[(csv_data.click==0)]"
   ]
  },
  {
   "cell_type": "code",
   "execution_count": 26,
   "metadata": {},
   "outputs": [],
   "source": [
    "bidprice_click1=data_click_1['bidprice']/\n",
    "bidprice_click0=data_click_0['bidprice']"
   ]
  },
  {
   "cell_type": "code",
   "execution_count": 45,
   "metadata": {
    "scrolled": true
   },
   "outputs": [
    {
     "name": "stdout",
     "output_type": "stream",
     "text": [
      "1793\n",
      "2429188\n"
     ]
    }
   ],
   "source": [
    "print(len(bidprice_click1))\n",
    "print(len(bidprice_click0))"
   ]
  },
  {
   "cell_type": "code",
   "execution_count": 27,
   "metadata": {},
   "outputs": [],
   "source": [
    "payprice_click1=data_click_1['payprice']\n",
    "payprice_click0=data_click_0['payprice']"
   ]
  },
  {
   "cell_type": "code",
   "execution_count": 69,
   "metadata": {},
   "outputs": [
    {
     "data": {
      "image/png": "[encoded data removed]",
      "text/plain": [
       "<Figure size 1800x360 with 1 Axes>"
      ]
     },
     "metadata": {},
     "output_type": "display_data"
    }
   ],
   "source": [
    "plt.figure(figsize=(25,5))\n",
    "plt.hist(bidprice_click1,bins=20,color='r',label='click_1',alpha=0.3,density=bool)\n",
    "plt.hist(bidprice_click0,bins=20,color='g', label='click_0',alpha=0.3,density=bool)\n",
    "plt.xlabel('Bidprice',fontsize=15)\n",
    "plt.ylabel('Probability',fontsize=15)\n",
    "plt.title('Bidprice probability distribution for click_1 and click_0 ',fontsize=15)\n",
    "plt.legend(fontsize=15)\n",
    "#plt.savefig('Bidprice probability distribution for click_1 and click_0 of Q1.jpg')"
   ]
  },
  {
   "cell_type": "code",
   "execution_count": 70,
   "metadata": {},
   "outputs": [
    {
     "data": {
      "image/png": "[encoded data removed]",
      "text/plain": [
       "<Figure size 1800x360 with 1 Axes>"
      ]
     },
     "metadata": {},
     "output_type": "display_data"
    }
   ],
   "source": [
    "plt.figure(figsize=(25,5))\n",
    "plt.hist(payprice_click1,bins=20,color='r',label='click_1',alpha=0.3,density=bool)\n",
    "plt.hist(payprice_click0,bins=20,color='g', label='click_0',alpha=0.3,density=bool)\n",
    "plt.xlabel('Payprice',fontsize=15)\n",
    "plt.ylabel('Probability',fontsize=15)\n",
    "plt.title('Payprice probability distribution for click_1 and click_0 ',fontsize=15)\n",
    "plt.legend(fontsize=15,loc='upper left')\n",
    "#plt.savefig('Payprice probability distribution for click_1 and click_0 of Q1.jpg')\n"
   ]
  },
  {
   "cell_type": "code",
   "execution_count": 67,
   "metadata": {},
   "outputs": [
    {
     "data": {
      "text/plain": [
       "2.0"
      ]
     },
     "execution_count": 67,
     "metadata": {},
     "output_type": "execute_result"
    }
   ],
   "source": [
    "np.sqrt(4)"
   ]
  },
  {
   "cell_type": "code",
   "execution_count": null,
   "metadata": {},
   "outputs": [],
   "source": []
  }
 ],
 "metadata": {
  "kernelspec": {
   "display_name": "Python 3",
   "language": "python",
   "name": "python3"
  },
  "language_info": {
   "codemirror_mode": {
    "name": "ipython",
    "version": 3
   },
   "file_extension": ".py",
   "mimetype": "text/x-python",
   "name": "python",
   "nbconvert_exporter": "python",
   "pygments_lexer": "ipython3",
   "version": "3.6.5"
  }
 },
 "nbformat": 4,
 "nbformat_minor": 2
}
