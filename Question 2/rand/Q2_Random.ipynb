{
 "cells": [
  {
   "cell_type": "code",
   "execution_count": 1,
   "metadata": {},
   "outputs": [],
   "source": [
    "import pandas as pd\n",
    "import matplotlib.pyplot as plt\n",
    "import numpy as np\n",
    "import random"
   ]
  },
  {
   "cell_type": "code",
   "execution_count": 5,
   "metadata": {},
   "outputs": [
    {
     "name": "stdout",
     "output_type": "stream",
     "text": [
      "(303925, 25)\n"
     ]
    }
   ],
   "source": [
    "csv_data = pd.read_csv('validation.csv')\n",
    "print(csv_data.shape)"
   ]
  },
  {
   "cell_type": "markdown",
   "metadata": {},
   "source": [
    "# optimize the range 1"
   ]
  },
  {
   "cell_type": "code",
   "execution_count": 136,
   "metadata": {},
   "outputs": [
    {
     "name": "stdout",
     "output_type": "stream",
     "text": [
      "31.0\n",
      "35.0\n",
      "37.0\n",
      "46.0\n",
      "48.0\n",
      "43.0\n",
      "43.0\n",
      "33.0\n",
      "48.0\n",
      "49.0\n",
      "49.0\n",
      "46.0\n",
      "49.0\n",
      "49.0\n",
      "51.0\n",
      "46.0\n",
      "49.0\n",
      "48.0\n",
      "53.0\n",
      "53.0\n",
      "55.0\n",
      "49.0\n",
      "68.8\n",
      "53.0\n",
      "49.0\n",
      "51.0\n",
      "56.0\n",
      "66.8\n",
      "49.0\n",
      "69.1\n",
      "46.0\n",
      "53.0\n",
      "57.0\n",
      "64.5\n",
      "73.9\n",
      "74.0\n",
      "74.2\n",
      "49.0\n",
      "49.0\n",
      "49.0\n",
      "53.0\n",
      "71.9\n",
      "66.9\n",
      "71.3\n",
      "75.7\n",
      "58.0\n",
      "64.8\n",
      "53.0\n",
      "55.0\n",
      "70.6\n",
      "73.7\n",
      "74.6\n",
      "68.4\n",
      "73.2\n",
      "70.6\n",
      "74.7\n",
      "68.9\n",
      "49.0\n",
      "67.6\n",
      "73.2\n",
      "70.9\n",
      "73.0\n",
      "67.3\n",
      "74.2\n",
      "68.7\n",
      "71.7\n",
      "28.0\n",
      "48.0\n",
      "68.0\n",
      "66.3\n",
      "52.0\n",
      "68.9\n",
      "72.4\n",
      "71.2\n",
      "72.4\n",
      "72.0\n",
      "69.5\n",
      "69.7\n",
      "28.0\n",
      "67.0\n",
      "49.0\n",
      "73.1\n",
      "71.1\n",
      "74.0\n",
      "75.1\n",
      "69.2\n",
      "73.9\n",
      "73.1\n",
      "68.3\n",
      "72.0\n",
      "66.1\n",
      "67.1\n",
      "56.0\n",
      "73.3\n",
      "67.3\n",
      "53.0\n",
      "68.4\n",
      "73.4\n",
      "70.0\n",
      "71.1\n",
      "64.3\n",
      "68.8\n",
      "73.8\n",
      "70.4\n",
      "68.4\n",
      "33.0\n",
      "31.0\n",
      "68.1\n",
      "53.0\n",
      "73.5\n",
      "70.1\n",
      "76.3\n",
      "75.5\n",
      "64.7\n",
      "73.2\n",
      "71.9\n",
      "70.5\n",
      "70.4\n",
      "66.5\n",
      "67.1\n",
      "68.3\n",
      "55.0\n",
      "74.2\n",
      "64.9\n",
      "67.0\n",
      "64.6\n",
      "71.3\n",
      "67.5\n",
      "68.0\n",
      "69.0\n",
      "66.9\n",
      "70.7\n",
      "70.2\n",
      "67.4\n",
      "66.6\n",
      "65.4\n",
      "73.7\n",
      "69.1\n",
      "70.3\n",
      "55.0\n",
      "64.6\n",
      "66.2\n",
      "67.4\n",
      "63.5\n",
      "66.8\n",
      "69.8\n",
      "62.8\n",
      "63.1\n",
      "65.0\n",
      "68.1\n",
      "69.0\n",
      "64.7\n",
      "65.3\n",
      "32.0\n",
      "73.2\n",
      "66.8\n",
      "49.0\n",
      "66.6\n",
      "61.7\n",
      "66.7\n",
      "73.2\n",
      "67.3\n",
      "63.3\n",
      "63.9\n",
      "65.7\n",
      "67.8\n",
      "64.4\n",
      "65.3\n",
      "61.6\n",
      "63.5\n",
      "68.3\n",
      "58.0\n",
      "53.0\n",
      "68.9\n",
      "73.4\n",
      "55.0\n",
      "65.3\n",
      "74.0\n",
      "64.2\n",
      "70.6\n",
      "66.4\n",
      "63.5\n",
      "63.2\n",
      "63.4\n",
      "63.1\n",
      "62.0\n",
      "62.2\n",
      "62.8\n",
      "62.8\n",
      "62.8\n",
      "53.0\n",
      "58.0\n",
      "67.5\n",
      "72.7\n",
      "71.2\n",
      "59.9\n",
      "60.6\n",
      "65.2\n",
      "66.3\n",
      "63.5\n",
      "64.9\n",
      "64.2\n",
      "63.4\n",
      "63.3\n",
      "62.9\n",
      "65.5\n",
      "63.3\n",
      "67.1\n",
      "61.5\n",
      "60.4\n"
     ]
    }
   ],
   "source": [
    "\n",
    "max_bidprice=140\n",
    "min_bidprice=40\n",
    "click_total=[]\n",
    "bid_price_list=[]\n",
    "interval_list=[]\n",
    "for upperlimit in range(min_bidprice,max_bidprice+1,5):\n",
    "    for lowerlimit in range(min_bidprice,upperlimit,5):\n",
    "        bid_price=random.uniform(lowerlimit, upperlimit)\n",
    "        bid_price_list.append(bid_price)\n",
    "        interval_list.append([lowerlimit,upperlimit])\n",
    "        data_filtered_payprice=csv_data[(csv_data.payprice<bid_price)]\n",
    "        click_total_individual=[]\n",
    "        for interation in range(10):\n",
    "            data_filtered_payprice_random=data_filtered_payprice.sample(frac=1)\n",
    "            data_filtered_payprice_random_array=np.array(data_filtered_payprice_random['payprice'])\n",
    "            data_filtered_payprice_random_cumsum=np.cumsum(data_filtered_payprice_random_array)\n",
    "            for i in range(len(data_filtered_payprice_random_array)):\n",
    "                if data_filtered_payprice_random_cumsum[i] > 6250000:\n",
    "                    break\n",
    "            data_finally_filtered=data_filtered_payprice_random.head(i)\n",
    "            click_for_one=sum(np.array(data_finally_filtered['click']))\n",
    "            click_total_individual.append(click_for_one)\n",
    "            click_total_individual_mean=np.mean(click_total_individual)\n",
    "        click_total.append(click_total_individual_mean)\n",
    "        print(click_total[-1])\n",
    "    \n",
    "    \n",
    "    "
   ]
  },
  {
   "cell_type": "code",
   "execution_count": 137,
   "metadata": {},
   "outputs": [
    {
     "data": {
      "text/plain": [
       "210"
      ]
     },
     "execution_count": 137,
     "metadata": {},
     "output_type": "execute_result"
    }
   ],
   "source": [
    "len(interval_list)"
   ]
  },
  {
   "cell_type": "code",
   "execution_count": 138,
   "metadata": {},
   "outputs": [
    {
     "data": {
      "text/plain": [
       "210"
      ]
     },
     "execution_count": 138,
     "metadata": {},
     "output_type": "execute_result"
    }
   ],
   "source": [
    "len(click_total)"
   ]
  },
  {
   "cell_type": "code",
   "execution_count": 139,
   "metadata": {},
   "outputs": [
    {
     "data": {
      "image/png": "[encoded data removed]",
      "text/plain": [
       "<Figure size 432x288 with 1 Axes>"
      ]
     },
     "metadata": {},
     "output_type": "display_data"
    }
   ],
   "source": [
    "plt.scatter(bid_price_list,click_total, color='midnightblue')\n",
    "plt.xlabel('Random bid value',fontsize=15)\n",
    "plt.ylabel('click',fontsize=15)\n",
    "plt.title('',fontsize=15)\n",
    "plt.savefig('click_random.jpg')"
   ]
  },
  {
   "cell_type": "code",
   "execution_count": 140,
   "metadata": {},
   "outputs": [
    {
     "data": {
      "text/plain": [
       "[70, 115]"
      ]
     },
     "execution_count": 140,
     "metadata": {},
     "output_type": "execute_result"
    }
   ],
   "source": [
    "interval_list[click_total.index(max(click_total))]\n",
    "# The first output interval "
   ]
  },
  {
   "cell_type": "markdown",
   "metadata": {},
   "source": [
    "# optimize the range 2"
   ]
  },
  {
   "cell_type": "code",
   "execution_count": 147,
   "metadata": {},
   "outputs": [
    {
     "name": "stdout",
     "output_type": "stream",
     "text": [
      "67.3\n",
      "76.3\n",
      "76.6\n",
      "67.9\n",
      "72.5\n",
      "72.1\n",
      "70.7\n",
      "72.1\n",
      "72.0\n",
      "71.8\n",
      "66.9\n",
      "70.3\n",
      "72.3\n",
      "71.2\n",
      "66.4\n",
      "72.3\n",
      "70.2\n",
      "69.2\n",
      "71.3\n",
      "71.0\n",
      "70.4\n",
      "69.9\n",
      "69.9\n",
      "72.3\n",
      "70.2\n",
      "67.8\n",
      "67.9\n",
      "68.2\n",
      "67.6\n",
      "67.3\n",
      "63.8\n",
      "69.3\n",
      "65.0\n",
      "65.0\n",
      "68.1\n",
      "68.4\n",
      "74.8\n",
      "61.2\n",
      "71.8\n",
      "66.0\n",
      "69.7\n",
      "68.5\n",
      "66.9\n",
      "68.5\n",
      "66.1\n"
     ]
    }
   ],
   "source": [
    "max_bidprice=115\n",
    "min_bidprice=70\n",
    "click_total=[]\n",
    "bid_price_list=[]\n",
    "interval_list=[]\n",
    "for upperlimit in range(min_bidprice,max_bidprice+1,5):\n",
    "    for lowerlimit in range(min_bidprice,upperlimit,5):\n",
    "        bid_price=random.uniform(lowerlimit, upperlimit)\n",
    "        bid_price_list.append(bid_price)\n",
    "        interval_list.append([lowerlimit,upperlimit])\n",
    "        data_filtered_payprice=csv_data[(csv_data.payprice<bid_price)]\n",
    "        click_total_individual=[]\n",
    "        for interation in range(10):\n",
    "            data_filtered_payprice_random=data_filtered_payprice.sample(frac=1)\n",
    "            data_filtered_payprice_random_array=np.array(data_filtered_payprice_random['payprice'])\n",
    "            data_filtered_payprice_random_cumsum=np.cumsum(data_filtered_payprice_random_array)\n",
    "            for i in range(len(data_filtered_payprice_random_array)):\n",
    "                if data_filtered_payprice_random_cumsum[i] > 6250000:\n",
    "                    break\n",
    "            data_finally_filtered=data_filtered_payprice_random.head(i)\n",
    "            click_for_one=sum(np.array(data_finally_filtered['click']))\n",
    "            click_total_individual.append(click_for_one)\n",
    "            click_total_individual_mean=np.mean(click_total_individual)\n",
    "        click_total.append(click_total_individual_mean)\n",
    "        print(click_total[-1])"
   ]
  },
  {
   "cell_type": "code",
   "execution_count": 148,
   "metadata": {},
   "outputs": [
    {
     "data": {
      "text/plain": [
       "[75, 80]"
      ]
     },
     "execution_count": 148,
     "metadata": {},
     "output_type": "execute_result"
    }
   ],
   "source": [
    "interval_list[click_total.index(max(click_total))]\n",
    "#final optimal interval"
   ]
  },
  {
   "cell_type": "markdown",
   "metadata": {},
   "source": [
    "# optimal ctr"
   ]
  },
  {
   "cell_type": "code",
   "execution_count": 149,
   "metadata": {},
   "outputs": [
    {
     "name": "stdout",
     "output_type": "stream",
     "text": [
      "0.0005342311587583266\n"
     ]
    }
   ],
   "source": [
    "ctr_total=[]\n",
    "\n",
    "max_bidprice=80\n",
    "min_bidprice=75\n",
    "\n",
    "\n",
    "\n",
    "bid_price=random.uniform(min_bidprice, max_bidprice)\n",
    "\n",
    "data_filtered_payprice=csv_data[(csv_data.payprice<bid_price)]\n",
    "ctr_total_individual=[]\n",
    "for interation in range(10):\n",
    "    data_filtered_payprice_random=data_filtered_payprice.sample(frac=1)\n",
    "    data_filtered_payprice_random_array=np.array(data_filtered_payprice_random['payprice'])\n",
    "    data_filtered_payprice_random_cumsum=np.cumsum(data_filtered_payprice_random_array)\n",
    "    for i in range(len(data_filtered_payprice_random_array)):\n",
    "        if data_filtered_payprice_random_cumsum[i] > 6250000:\n",
    "            break\n",
    "    data_finally_filtered=data_filtered_payprice_random.head(i)\n",
    "    data_finally_filtered_click1=data_finally_filtered[(data_finally_filtered.click==1)]\n",
    "    data_finally_filtered_ctr=len(data_finally_filtered_click1)/len(data_finally_filtered)\n",
    "    ctr_total_individual.append(data_finally_filtered_ctr)\n",
    "    ctr_total_individual_mean=np.mean(ctr_total_individual)\n",
    "ctr_total.append(ctr_total_individual_mean)\n",
    "print(ctr_total[-1])"
   ]
  },
  {
   "cell_type": "code",
   "execution_count": 150,
   "metadata": {},
   "outputs": [
    {
     "data": {
      "text/plain": [
       "[[70, 75],\n",
       " [70, 80],\n",
       " [75, 80],\n",
       " [70, 85],\n",
       " [75, 85],\n",
       " [80, 85],\n",
       " [70, 90],\n",
       " [75, 90],\n",
       " [80, 90],\n",
       " [85, 90],\n",
       " [70, 95],\n",
       " [75, 95],\n",
       " [80, 95],\n",
       " [85, 95],\n",
       " [90, 95],\n",
       " [70, 100],\n",
       " [75, 100],\n",
       " [80, 100],\n",
       " [85, 100],\n",
       " [90, 100],\n",
       " [95, 100],\n",
       " [70, 105],\n",
       " [75, 105],\n",
       " [80, 105],\n",
       " [85, 105],\n",
       " [90, 105],\n",
       " [95, 105],\n",
       " [100, 105],\n",
       " [70, 110],\n",
       " [75, 110],\n",
       " [80, 110],\n",
       " [85, 110],\n",
       " [90, 110],\n",
       " [95, 110],\n",
       " [100, 110],\n",
       " [105, 110],\n",
       " [70, 115],\n",
       " [75, 115],\n",
       " [80, 115],\n",
       " [85, 115],\n",
       " [90, 115],\n",
       " [95, 115],\n",
       " [100, 115],\n",
       " [105, 115],\n",
       " [110, 115]]"
      ]
     },
     "execution_count": 150,
     "metadata": {},
     "output_type": "execute_result"
    }
   ],
   "source": [
    "interval_list"
   ]
  },
  {
   "cell_type": "code",
   "execution_count": 52,
   "metadata": {},
   "outputs": [
    {
     "data": {
      "text/plain": [
       "231"
      ]
     },
     "execution_count": 52,
     "metadata": {},
     "output_type": "execute_result"
    }
   ],
   "source": [
    "len(bid_price_list)"
   ]
  },
  {
   "cell_type": "markdown",
   "metadata": {},
   "source": [
    "# optimal spend"
   ]
  },
  {
   "cell_type": "code",
   "execution_count": 151,
   "metadata": {},
   "outputs": [
    {
     "name": "stdout",
     "output_type": "stream",
     "text": [
      "6249.9752\n"
     ]
    }
   ],
   "source": [
    "spend_total=[]\n",
    "max_bidprice=80\n",
    "min_bidprice=75\n",
    "\n",
    "bid_price=random.uniform(min_bidprice, max_bidprice)\n",
    "bid_price_list.append(bid_price)\n",
    "interval_list.append([lowerlimit,upperlimit])\n",
    "data_filtered_payprice=csv_data[(csv_data.payprice<bid_price)]\n",
    "spend_total_individual=[]\n",
    "for interation in range(5):\n",
    "    data_filtered_payprice_random=data_filtered_payprice.sample(frac=1)\n",
    "    data_filtered_payprice_random_array=np.array(data_filtered_payprice_random['payprice'])\n",
    "    data_filtered_payprice_random_cumsum=np.cumsum(data_filtered_payprice_random_array)\n",
    "    for i in range(len(data_filtered_payprice_random_array)):\n",
    "        if data_filtered_payprice_random_cumsum[i] > 6250000:\n",
    "            break\n",
    "    data_finally_filtered=data_filtered_payprice_random.head(i)\n",
    "    data_finally_filtered_spendsum=sum(data_finally_filtered['payprice'])\n",
    "    spend_total_individual.append(data_finally_filtered_spendsum)\n",
    "    spend_total_individual_mean=np.mean(spend_total_individual)/1000\n",
    "spend_total.append(spend_total_individual_mean)\n",
    "print(spend_total[-1])"
   ]
  },
  {
   "cell_type": "markdown",
   "metadata": {},
   "source": [
    "# optimal cpm"
   ]
  },
  {
   "cell_type": "code",
   "execution_count": 152,
   "metadata": {},
   "outputs": [
    {
     "name": "stdout",
     "output_type": "stream",
     "text": [
      "42.846771053281046\n"
     ]
    }
   ],
   "source": [
    "cpm_total=[]\n",
    "max_bidprice=80\n",
    "min_bidprice=75\n",
    "\n",
    "bid_price=random.uniform(min_bidprice, max_bidprice)\n",
    "bid_price_list.append(bid_price)\n",
    "interval_list.append([lowerlimit,upperlimit])\n",
    "data_filtered_payprice=csv_data[(csv_data.payprice<bid_price)]\n",
    "spend_total_individual=[]\n",
    "for interation in range(5):\n",
    "    data_filtered_payprice_random=data_filtered_payprice.sample(frac=1)\n",
    "    data_filtered_payprice_random_array=np.array(data_filtered_payprice_random['payprice'])\n",
    "    data_filtered_payprice_random_cumsum=np.cumsum(data_filtered_payprice_random_array)\n",
    "    for i in range(len(data_filtered_payprice_random_array)):\n",
    "        if data_filtered_payprice_random_cumsum[i] > 6250000:\n",
    "            break\n",
    "    data_finally_filtered=data_filtered_payprice_random.head(i)\n",
    "    data_finally_filtered_spendsum=sum(data_finally_filtered['payprice'])\n",
    "    spend_total_individual.append(data_finally_filtered_spendsum)\n",
    "    spend_total_individual_mean=np.mean(spend_total_individual)\n",
    "        \n",
    "cpm_total.append(spend_total_individual_mean/len(data_finally_filtered))\n",
    "print(cpm_total[-1])"
   ]
  },
  {
   "cell_type": "markdown",
   "metadata": {},
   "source": [
    "# optimal cpc"
   ]
  },
  {
   "cell_type": "code",
   "execution_count": 153,
   "metadata": {},
   "outputs": [
    {
     "name": "stdout",
     "output_type": "stream",
     "text": [
      "99.20597777777778\n"
     ]
    }
   ],
   "source": [
    "cpc_total=[]\n",
    "max_bidprice=80\n",
    "min_bidprice=75\n",
    "\n",
    "bid_price=random.uniform(min_bidprice, max_bidprice)\n",
    "bid_price_list.append(bid_price)\n",
    "interval_list.append([lowerlimit,upperlimit])\n",
    "data_filtered_payprice=csv_data[(csv_data.payprice<bid_price)]\n",
    "spend_total_individual=[]\n",
    "for interation in range(5):\n",
    "    data_filtered_payprice_random=data_filtered_payprice.sample(frac=1)\n",
    "    data_filtered_payprice_random_array=np.array(data_filtered_payprice_random['payprice'])\n",
    "    data_filtered_payprice_random_cumsum=np.cumsum(data_filtered_payprice_random_array)\n",
    "    for i in range(len(data_filtered_payprice_random_array)):\n",
    "        if data_filtered_payprice_random_cumsum[i] > 6250000:\n",
    "            break\n",
    "    data_finally_filtered=data_filtered_payprice_random.head(i)\n",
    "    data_finally_filtered_spendsum=sum(data_finally_filtered['payprice'])\n",
    "    spend_total_individual.append(data_finally_filtered_spendsum)\n",
    "    spend_total_individual_mean=np.mean(spend_total_individual)\n",
    "    click_for_one=sum(np.array(data_finally_filtered['click']))\n",
    "if click_for_one > 0:\n",
    "    num_click=sum(np.array(data_finally_filtered['click']))\n",
    "else:\n",
    "    num_click=np.NaN\n",
    "cpc_total.append(spend_total_individual_mean/num_click/1000)\n",
    "print(cpc_total[-1])"
   ]
  },
  {
   "cell_type": "code",
   "execution_count": null,
   "metadata": {},
   "outputs": [],
   "source": []
  }
 ],
 "metadata": {
  "kernelspec": {
   "display_name": "Python 3",
   "language": "python",
   "name": "python3"
  },
  "language_info": {
   "codemirror_mode": {
    "name": "ipython",
    "version": 3
   },
   "file_extension": ".py",
   "mimetype": "text/x-python",
   "name": "python",
   "nbconvert_exporter": "python",
   "pygments_lexer": "ipython3",
   "version": "3.6.5"
  }
 },
 "nbformat": 4,
 "nbformat_minor": 2
}
